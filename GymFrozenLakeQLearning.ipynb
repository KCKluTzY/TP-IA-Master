{
  "cells": [
    {
      "cell_type": "markdown",
      "metadata": {
        "id": "duQCXKFoet5w"
      },
      "source": [
        "<a href=\"https://colab.research.google.com/github/EmmanuelADAM/IntelligenceArtificiellePython/blob/master/GymFrozenLakeQLearning.ipynb\" target=\"_parent\">Ouvrir sous colab</a>"
      ]
    },
    {
      "cell_type": "markdown",
      "metadata": {
        "id": "nmnKdRbTet54"
      },
      "source": [
        "# Machine Learning\n",
        "## Appliqué à [Gym.OpenAI](https://gym.openai.com)"
      ]
    },
    {
      "cell_type": "markdown",
      "metadata": {
        "id": "GoHaq1JWet56"
      },
      "source": [
        "---\n",
        "## Test de ML par Q-Learning pour atteindre l'objectif\n",
        "\n",
        "**Utilisation de l'environnement Gym**\n",
        " (voir la page d'introduction à [Gym](https://gym.openai.com))."
      ]
    },
    {
      "cell_type": "markdown",
      "metadata": {
        "id": "fg3K1kQjet57"
      },
      "source": [
        "#### Si besoin, importer gym"
      ]
    },
    {
      "cell_type": "code",
      "execution_count": 1,
      "metadata": {
        "id": "No2mRZVmet58"
      },
      "outputs": [],
      "source": [
        "#!pip install gymnasium"
      ]
    },
    {
      "cell_type": "markdown",
      "metadata": {
        "tags": [],
        "id": "vfxYtcR7et5-"
      },
      "source": [
        "----\n",
        "#### L'environnement FrozenLake"
      ]
    },
    {
      "cell_type": "code",
      "execution_count": 2,
      "metadata": {
        "id": "RqkM_fUfet5_"
      },
      "outputs": [],
      "source": [
        "import gymnasium as gym"
      ]
    },
    {
      "cell_type": "markdown",
      "metadata": {
        "id": "16PAw51Iet6A"
      },
      "source": [
        "---\n",
        "- Utiliser l'environnement `FrozenLake en mode 8x8 en mode texte` (un labyrinthe)\n",
        "  - il est possible d'utiliser cet environnement en mode 'slipery', alors appliquer une *action n'est pas déterministe !*\n",
        "    - à partir d'une case \"gelée\", aller à droite peut .. mener à droite, ou en haut ou en bas....\n",
        "    - => intérêt du Q-Learning adapté à ce type d'environnement probabiliste\n",
        "- Le labyrinthe est ainsi composé de zones glacées, de puits, et d'un objectif contenant une récompense\n",
        "\n",
        "\n",
        "**N.B.**\n",
        "  - *Cet environnement fonctionne bien sous colab, jupyterlab.. quelques soucis de l'affichage de l'état courant (carré rouge) sous Pyzo....*\n",
        "  - Il est fortement conseillé de débuter avec un environnement déterministe pour évaluer la bonne marche de l'algo de Q-Learning que vous aurez développer.."
      ]
    },
    {
      "cell_type": "markdown",
      "metadata": {
        "id": "IN901buhet6A"
      },
      "source": [
        "---\n",
        "#### Etude de l'environnement"
      ]
    },
    {
      "cell_type": "code",
      "execution_count": 3,
      "metadata": {
        "colab": {
          "base_uri": "https://localhost:8080/"
        },
        "id": "V5w-kVI1et6B",
        "outputId": "647caa85-cd28-40c4-c045-66eb3adb7a68"
      },
      "outputs": [
        {
          "output_type": "stream",
          "name": "stdout",
          "text": [
            "specification de l'environnement :  EnvSpec(id='FrozenLake-v1', entry_point='gymnasium.envs.toy_text.frozen_lake:FrozenLakeEnv', reward_threshold=0.7, nondeterministic=False, max_episode_steps=100, order_enforce=True, disable_env_checker=False, kwargs={'map_name': '4x4', 'is_slippery': False, 'render_mode': 'ansi'}, namespace=None, name='FrozenLake', version=1, additional_wrappers=(), vector_entry_point=None)\n",
            "espace d'actions :  Discrete(4)  => 4 actions \"discretes\" (non continues)\n",
            "espace d'etats :  Discrete(16)  => 16 etats distincts\n",
            "Environnement et etat initial (en rouge) : \n",
            "\n",
            "\u001b[41mS\u001b[0mFFF\n",
            "FHFH\n",
            "FFFH\n",
            "HFFG\n",
            "\n",
            "S = Start (pos 0), G = Goal (pos 15), H = Hole, F = Frozen place\n",
            "Prendre une action au hasard : \n",
            "action choisie= 2 ; l'exécuter...\n",
            "nouvel état=1, recompense sur cet etat=0.0, etat final (but ou trou)=False, etat feuille=False, info={'prob': 1.0}\n",
            "  (Right)\n",
            "S\u001b[41mF\u001b[0mFF\n",
            "FHFH\n",
            "FFFH\n",
            "HFFG\n",
            "\n"
          ]
        }
      ],
      "source": [
        "env = gym.make('FrozenLake-v1', map_name=\"4x4\", is_slippery=False, render_mode='ansi')\n",
        "# tester map_name=\"8x8\" pour l'environnement plus large\n",
        "print(\"specification de l'environnement : \", env.spec)\n",
        "print(\"espace d'actions : \", env.action_space , \" => 4 actions \\\"discretes\\\" (non continues)\") #ici 4 actions discrétisée\n",
        "print(\"espace d'etats : \", env.observation_space , \" => 16 etats distincts\") #ici 4x4 cellules possibles\n",
        "\n",
        "env.reset()\n",
        "print(\"Environnement et etat initial (en rouge) : \")\n",
        "print(env.render())\n",
        "print(\"S = Start (pos 0), G = Goal (pos 15), H = Hole, F = Frozen place\")\n",
        "\n",
        "print(\"Prendre une action au hasard : \")\n",
        "a = 2 #env.action_space.sample()\n",
        "print(\"action choisie=\",a,\"; l'exécuter...\")\n",
        "#on recupère des valeurs en retour\n",
        "new_s, reward, done, truncated, info = env.step(a)\n",
        "print(f\"nouvel état={new_s}, recompense sur cet etat={reward}, etat final (but ou trou)={done}, etat feuille={truncated}, info={info}\")\n",
        "print(env.render())\n"
      ]
    },
    {
      "cell_type": "markdown",
      "metadata": {
        "id": "bFb22LxXet6C"
      },
      "source": [
        "---\n",
        "#### Test des actions\n",
        "\n",
        "Sous Gym, `step` permet d'effectuer une action.\n",
        "En retour la fonction retourne une observation sur l'etat d'arrivee, sa recompense, son type (final ou non), et des informations.\n",
        "Ici, dans FrozenLake,\n",
        "- observation = position où se trouve l'agent\n",
        "- reward = recompense\n",
        "- done = vrai si but atteint\n",
        "- info = probabilité de succès de l'action\n",
        "  - en mode déterministe, sol non glissant, la proba de réussite est de 100%\n",
        "  - en mode non déterministe, sol glissant, la proba de réussite est de 30%"
      ]
    },
    {
      "cell_type": "markdown",
      "metadata": {
        "id": "lEL5N4oWet6D"
      },
      "source": [
        "---\n",
        "**Cas non déterministe**"
      ]
    },
    {
      "cell_type": "code",
      "execution_count": 4,
      "metadata": {
        "id": "zr71ewpjet6D"
      },
      "outputs": [],
      "source": [
        "env = gym.make('FrozenLake-v1', map_name=\"4x4\", is_slippery=False, render_mode='ansi')"
      ]
    },
    {
      "cell_type": "code",
      "execution_count": 5,
      "metadata": {
        "colab": {
          "base_uri": "https://localhost:8080/"
        },
        "id": "qcBg7JV9et6D",
        "outputId": "59d63e7d-dde0-442b-ef20-dd2534e3b324"
      },
      "outputs": [
        {
          "output_type": "stream",
          "name": "stdout",
          "text": [
            "  (Down)\n",
            "SFFF\n",
            "\u001b[41mF\u001b[0mHFH\n",
            "FFFH\n",
            "HFFG\n",
            "\n",
            "pos° actuelle: 4, gain: 0.0, fini: False, info: {'prob': 1.0}\n"
          ]
        }
      ],
      "source": [
        "###### Test des actions\n",
        "env.reset()\n",
        "action = 1\n",
        "observation, reward, done, _, info = env.step(action)\n",
        "print(env.render())\n",
        "print(f\"pos° actuelle: {observation}, gain: {reward}, fini: {done}, info: {info}\")"
      ]
    },
    {
      "cell_type": "code",
      "execution_count": 6,
      "metadata": {
        "colab": {
          "base_uri": "https://localhost:8080/"
        },
        "id": "IWmZgazhet6E",
        "outputId": "10411d11-3abe-405a-d8db-f9d7b6098d8c"
      },
      "outputs": [
        {
          "output_type": "stream",
          "name": "stdout",
          "text": [
            "  (Right)\n",
            "SFFF\n",
            "F\u001b[41mH\u001b[0mFH\n",
            "FFFH\n",
            "HFFG\n",
            "\n",
            "pos° actuelle: 5, gain: 0.0, fini: True, info: {'prob': 1.0}\n"
          ]
        }
      ],
      "source": [
        "action = 2\n",
        "observation, reward, done, _, info = env.step(action)\n",
        "print(env.render())\n",
        "print(f\"pos° actuelle: {observation}, gain: {reward}, fini: {done}, info: {info}\")"
      ]
    },
    {
      "cell_type": "code",
      "execution_count": 7,
      "metadata": {
        "colab": {
          "base_uri": "https://localhost:8080/"
        },
        "id": "Ld6Rt0oXet6F",
        "outputId": "4f305ef2-c0ac-4609-9bba-c856f10a528d"
      },
      "outputs": [
        {
          "output_type": "stream",
          "name": "stdout",
          "text": [
            "  (Right)\n",
            "S\u001b[41mF\u001b[0mFF\n",
            "FHFH\n",
            "FFFH\n",
            "HFFG\n",
            "\n",
            "pos° actuelle: 1, gain: 0.0, fini: False, info: {'prob': 1.0}\n",
            "  (Right)\n",
            "SF\u001b[41mF\u001b[0mF\n",
            "FHFH\n",
            "FFFH\n",
            "HFFG\n",
            "\n",
            "pos° actuelle: 2, gain: 0.0, fini: False, info: {'prob': 1.0}\n",
            "  (Down)\n",
            "SFFF\n",
            "FH\u001b[41mF\u001b[0mH\n",
            "FFFH\n",
            "HFFG\n",
            "\n",
            "pos° actuelle: 6, gain: 0.0, fini: False, info: {'prob': 1.0}\n",
            "  (Down)\n",
            "SFFF\n",
            "FHFH\n",
            "FF\u001b[41mF\u001b[0mH\n",
            "HFFG\n",
            "\n",
            "pos° actuelle: 10, gain: 0.0, fini: False, info: {'prob': 1.0}\n",
            "  (Down)\n",
            "SFFF\n",
            "FHFH\n",
            "FFFH\n",
            "HF\u001b[41mF\u001b[0mG\n",
            "\n",
            "pos° actuelle: 14, gain: 0.0, fini: False, info: {'prob': 1.0}\n",
            "  (Down)\n",
            "SFFF\n",
            "FHFH\n",
            "FFFH\n",
            "HF\u001b[41mF\u001b[0mG\n",
            "\n",
            "pos° actuelle: 14, gain: 0.0, fini: False, info: {'prob': 1.0}\n",
            "  (Right)\n",
            "SFFF\n",
            "FHFH\n",
            "FFFH\n",
            "HFF\u001b[41mG\u001b[0m\n",
            "\n",
            "pos° actuelle: 15, gain: 1.0, fini: True, info: {'prob': 1.0}\n"
          ]
        }
      ],
      "source": [
        "env.reset()\n",
        "actions = [2,2,1,1,1,1,2]\n",
        "for a in actions:\n",
        "    observation, reward, done, _, info = env.step(a)\n",
        "    print(env.render())\n",
        "    print(f\"pos° actuelle: {observation}, gain: {reward}, fini: {done}, info: {info}\")"
      ]
    },
    {
      "cell_type": "markdown",
      "metadata": {
        "id": "NSaX7ADwet6G"
      },
      "source": [
        "---\n",
        "**Cas non déterministe**\n",
        "\n",
        "L'environnement FrozenLake peut également être chargé en mode non déterministe : chaque état est une case gelée, et **chaque action qui s'y déroule n'a qu'une chance sur trois de réussir !**\n",
        "\n",
        "Chargeons l'environnement dans ce mode et testons les actions à partir de l'état initial :"
      ]
    },
    {
      "cell_type": "code",
      "execution_count": 8,
      "metadata": {
        "id": "0G6wqpg5et6G"
      },
      "outputs": [],
      "source": [
        "env = gym.make('FrozenLake-v1', map_name=\"4x4\", is_slippery=True, render_mode='ansi')"
      ]
    },
    {
      "cell_type": "code",
      "execution_count": 9,
      "metadata": {
        "colab": {
          "base_uri": "https://localhost:8080/"
        },
        "id": "6mC4Higvet6H",
        "outputId": "86bfbb41-2264-4ac5-d7d8-f79aed8e65b0"
      },
      "outputs": [
        {
          "output_type": "stream",
          "name": "stdout",
          "text": [
            "  (Left)\n",
            "\u001b[41mS\u001b[0mFFF\n",
            "FHFH\n",
            "FFFH\n",
            "HFFG\n",
            "\n",
            "pos° actuelle: 0, gain: 0.0, fini: False, info: {'prob': 0.3333333333333333}\n"
          ]
        }
      ],
      "source": [
        "env.reset()\n",
        "action = 0\n",
        "observation, reward, done, _, info = env.step(action)\n",
        "print(env.render())\n",
        "print(f\"pos° actuelle: {observation}, gain: {reward}, fini: {done}, info: {info}\")"
      ]
    },
    {
      "cell_type": "code",
      "execution_count": 10,
      "metadata": {
        "colab": {
          "base_uri": "https://localhost:8080/"
        },
        "id": "FonYfcXMet6H",
        "outputId": "d747836c-d261-4e17-f774-d702349c9374"
      },
      "outputs": [
        {
          "output_type": "stream",
          "name": "stdout",
          "text": [
            "  (Down)\n",
            "SFFF\n",
            "\u001b[41mF\u001b[0mHFH\n",
            "FFFH\n",
            "HFFG\n",
            "\n",
            "pos° actuelle: 4, gain: 0.0, fini: False, info: {'prob': 0.3333333333333333}\n"
          ]
        }
      ],
      "source": [
        "env.reset()\n",
        "action = 1\n",
        "observation, reward, done, _, info = env.step(action)\n",
        "print(env.render())\n",
        "print(f\"pos° actuelle: {observation}, gain: {reward}, fini: {done}, info: {info}\")"
      ]
    },
    {
      "cell_type": "markdown",
      "metadata": {
        "id": "TgAe4EFWet6I"
      },
      "source": [
        "On est clairement ici dans un environnement non déterministe (une même action à partir d'un même état ne mène pas toujours au même résultat); c'est le contexte de prédilection de l'algo de Q-Learning..."
      ]
    },
    {
      "cell_type": "markdown",
      "metadata": {
        "id": "oUH26uMSet6I"
      },
      "source": [
        "---\n",
        "### <font color=\"red\">Premiere résolution en mode déterministe</font>\n",
        "Important, pour valider l'apprentissage de votre algorithme avant de passer en mode non-déterministe, il vaut mieux le tester sur un environnement où chaque action à 100% de réussite. Ci-dessous un exemple sur le mini labyrinthe."
      ]
    },
    {
      "cell_type": "markdown",
      "metadata": {
        "id": "B_e2icHiet6J"
      },
      "source": [
        "---\n",
        "## Exemple d'algorithme"
      ]
    },
    {
      "cell_type": "code",
      "execution_count": 11,
      "metadata": {
        "id": "zz_pLX5Let6J"
      },
      "outputs": [],
      "source": [
        "import numpy as np\n",
        "import random as rnd\n",
        "from tqdm import tqdm\n",
        "\n",
        "env = gym.make('FrozenLake-v1', map_name=\"8x8\", is_slippery=False, render_mode='ansi')\n",
        "actions = {0:'Gauche', 1:'Bas', 2:'Droite', 3:'Haut'}\n",
        "directions = {0: \"←\", 1: \"↓\", 2: \"→\", 3: \"↑\"}"
      ]
    },
    {
      "cell_type": "code",
      "execution_count": 12,
      "metadata": {
        "id": "qGx4uwZWet6K"
      },
      "outputs": [],
      "source": [
        "# initialiser la Q-Table\n",
        "# autant de cases que l'environnement en possède,\n",
        "# contenant autant de valeurs que d'actions possibles\n",
        "# donc ici une matrice 64 x 4\n",
        "Q = np.zeros([env.observation_space.n,env.action_space.n])"
      ]
    },
    {
      "cell_type": "markdown",
      "metadata": {
        "id": "ik25lrffet6K"
      },
      "source": [
        "### Mise en place des paramètres\n",
        "Pour rappel l'algo de Q Learning simple repose sur cette équation :\n",
        "$Q(s,a) \\gets \\lambda \\times (r + \\gamma \\times max_{a'}(Q(s', a'))) + (1-\\lambda ) \\times Q(s,a)$ avec\n",
        "  - $\\lambda$ : coef d'apprentissage\n",
        "  - $\\gamma$ : coef de réduction\n",
        "  - $r$ : récompense\n",
        "  \n",
        "Cette équation donne la qualité de l'action *a* à partir de l'état *s*.\n",
        "\n",
        "Initialement, les actions sont choisies aléatoirement et notées; puis au fil des tests les actions les plus valuées sont choisies. Pour cela, un tirage est effectuée, s'il est inférieur à un $\\epsilon$, le choix est aléatoire. Cet $\\epsilon$ décroit au fil des tests."
      ]
    },
    {
      "cell_type": "code",
      "execution_count": 13,
      "metadata": {
        "id": "zkcIMB-3et6K"
      },
      "outputs": [],
      "source": [
        "lambda_learn = .2\n",
        "gamma = 0.8\n",
        "epsilon = 1."
      ]
    },
    {
      "cell_type": "markdown",
      "metadata": {
        "id": "HInq0n-_et6L"
      },
      "source": [
        "#### Récupérer la meilleure action\n",
        "`argmax(tab)` retourne l'indice de la plus grande valeur du tableau.\n",
        "\n",
        "`argmax(Q[2])` retourne donc le no de l'action la plus intéressante à partir de l'état 2."
      ]
    },
    {
      "cell_type": "markdown",
      "metadata": {
        "id": "WPHcjHywet6L"
      },
      "source": [
        "## L'algorithme de Q-Learning simple"
      ]
    },
    {
      "cell_type": "code",
      "execution_count": 14,
      "metadata": {
        "id": "VKv76nx9et6L"
      },
      "outputs": [],
      "source": [
        "##algorithme de Q-Learning simple\n",
        "def q_learn(nb_actions=64):\n",
        "    \"\"\"\n",
        "    effectue un cycle d'apprentissage/recherche de solution' via le Q-Learning simple\n",
        "\n",
        "    Parameters\n",
        "    ----------\n",
        "    epoch : no de l'etape\n",
        "\n",
        "    Returns\n",
        "    -------\n",
        "    total_r : recompense totale\n",
        "    r : recompense du dernier etat rencontre\n",
        "    states_list : liste des etats traverses\n",
        "    actions_list : liste des actions effectuees\n",
        "\n",
        "    \"\"\"\n",
        "    s = env.reset()\n",
        "    s = s[0]\n",
        "    total_r = 0\n",
        "    done = False\n",
        "    step = 0\n",
        "    states_list = []\n",
        "    actions_list = []\n",
        "    # The Q-Table learning algorithm\n",
        "    while not done and step < nb_actions:\n",
        "        step += 1\n",
        "        # Choose an action by greedily (with noise) picking from Q table\n",
        "        actions = Q[s, :]\n",
        "        if rnd.random()<epsilon or np.max(actions)==0:\n",
        "            a = rnd.randint(0, env.action_space.n-1)\n",
        "        else:\n",
        "            a = np.argmax(actions)\n",
        "\n",
        "        # Get new state and reward from environment\n",
        "        new_state, r, done,_, _ = env.step(a)\n",
        "\n",
        "        # to privilegiate the shortest path, get negative reward every step\n",
        "        # if r == 0: r = -0.001\n",
        "\n",
        "        # Q-Learning\n",
        "        Q[s, a] = (1-lambda_learn)*Q[s, a] + lambda_learn*(r + gamma * np.max(Q[new_state, :]) - Q[s, a])\n",
        "        s = new_state\n",
        "        total_r = total_r + r\n",
        "        states_list.append(s)\n",
        "        actions_list.append(a)\n",
        "    return total_r, r, states_list, actions_list"
      ]
    },
    {
      "cell_type": "code",
      "execution_count": 15,
      "metadata": {
        "id": "BVa4oG0wet6M"
      },
      "outputs": [],
      "source": [
        "def try_qlearn(nb_episodes = 4000, nb_actions = 64):\n",
        "    \"\"\"\n",
        "    lance nb_episodes fois un cycle de Q-Learning et memorise chaque solution trouvee\n",
        "\n",
        "    Returns\n",
        "    -------\n",
        "    solutions_list : liste des solutions (no, recompense totale, liste des etats, liste des actions)\n",
        "    \"\"\"\n",
        "    global epsilon\n",
        "    states_list = []\n",
        "    actions_list = []\n",
        "    solutions_list = []\n",
        "    epsilon = 1\n",
        "    for i in tqdm(range(nb_episodes)):\n",
        "        # Reset environment and get first new observation\n",
        "        total_r, r, states_list, actions_list = q_learn()\n",
        "        epsilon = epsilon * 0.999\n",
        "        # memorize if a solution has been found\n",
        "        if r == 1: solutions_list.append((i, total_r, states_list, actions_list))\n",
        "\n",
        "    if(len(solutions_list) == 0): print(\"aucune solution trouvee !!\")\n",
        "    return solutions_list"
      ]
    },
    {
      "cell_type": "markdown",
      "metadata": {
        "id": "A9m83KhGet6M"
      },
      "source": [
        "## Affichage de du résultat\n",
        "Affichons maintenant la liste des actions via l'environnement Gym"
      ]
    },
    {
      "cell_type": "code",
      "execution_count": 16,
      "metadata": {
        "id": "dEp0ntHOet6M"
      },
      "outputs": [],
      "source": [
        "def rendu(solutions_list):\n",
        "    \"\"\" affiche la plus courte sequence d'actions permettant d'atteindre l'objectif q partir des solutions fournies\n",
        "    Parameters\n",
        "    ----------\n",
        "    solutions_list : liste des solutions trouvees\n",
        "\n",
        "    Returns\n",
        "    -------\n",
        "    None.\n",
        "    \"\"\"\n",
        "    mini_sol = solutions_list[0]\n",
        "    mini_actions = mini_sol[2]\n",
        "    for s in  solutions_list:\n",
        "        if len(s[2]) < len(mini_sol[2]):\n",
        "            mini_sol = s\n",
        "            mini_actions = s[3]\n",
        "    print(\"une solution en \", len(mini_sol[2]), \" etapes : \")\n",
        "    env.reset()\n",
        "    print(env.render())\n",
        "    for a in mini_actions:\n",
        "        env.step(a)\n",
        "        print(env.render())\n"
      ]
    },
    {
      "cell_type": "code",
      "execution_count": 17,
      "metadata": {
        "colab": {
          "base_uri": "https://localhost:8080/"
        },
        "id": "i7Lzs0pIet6N",
        "outputId": "82f767d8-e54b-4ce1-eb29-7fae81302262"
      },
      "outputs": [
        {
          "output_type": "stream",
          "name": "stderr",
          "text": [
            "100%|██████████| 3000/3000 [00:03<00:00, 777.55it/s] "
          ]
        },
        {
          "output_type": "stream",
          "name": "stdout",
          "text": [
            "une solution en  14  etapes : \n",
            "\n",
            "\u001b[41mS\u001b[0mFFFFFFF\n",
            "FFFFFFFF\n",
            "FFFHFFFF\n",
            "FFFFFHFF\n",
            "FFFHFFFF\n",
            "FHHFFFHF\n",
            "FHFFHFHF\n",
            "FFFHFFFG\n",
            "\n",
            "  (Right)\n",
            "S\u001b[41mF\u001b[0mFFFFFF\n",
            "FFFFFFFF\n",
            "FFFHFFFF\n",
            "FFFFFHFF\n",
            "FFFHFFFF\n",
            "FHHFFFHF\n",
            "FHFFHFHF\n",
            "FFFHFFFG\n",
            "\n",
            "  (Right)\n",
            "SF\u001b[41mF\u001b[0mFFFFF\n",
            "FFFFFFFF\n",
            "FFFHFFFF\n",
            "FFFFFHFF\n",
            "FFFHFFFF\n",
            "FHHFFFHF\n",
            "FHFFHFHF\n",
            "FFFHFFFG\n",
            "\n",
            "  (Right)\n",
            "SFF\u001b[41mF\u001b[0mFFFF\n",
            "FFFFFFFF\n",
            "FFFHFFFF\n",
            "FFFFFHFF\n",
            "FFFHFFFF\n",
            "FHHFFFHF\n",
            "FHFFHFHF\n",
            "FFFHFFFG\n",
            "\n",
            "  (Right)\n",
            "SFFF\u001b[41mF\u001b[0mFFF\n",
            "FFFFFFFF\n",
            "FFFHFFFF\n",
            "FFFFFHFF\n",
            "FFFHFFFF\n",
            "FHHFFFHF\n",
            "FHFFHFHF\n",
            "FFFHFFFG\n",
            "\n",
            "  (Right)\n",
            "SFFFF\u001b[41mF\u001b[0mFF\n",
            "FFFFFFFF\n",
            "FFFHFFFF\n",
            "FFFFFHFF\n",
            "FFFHFFFF\n",
            "FHHFFFHF\n",
            "FHFFHFHF\n",
            "FFFHFFFG\n",
            "\n",
            "  (Right)\n",
            "SFFFFF\u001b[41mF\u001b[0mF\n",
            "FFFFFFFF\n",
            "FFFHFFFF\n",
            "FFFFFHFF\n",
            "FFFHFFFF\n",
            "FHHFFFHF\n",
            "FHFFHFHF\n",
            "FFFHFFFG\n",
            "\n",
            "  (Down)\n",
            "SFFFFFFF\n",
            "FFFFFF\u001b[41mF\u001b[0mF\n",
            "FFFHFFFF\n",
            "FFFFFHFF\n",
            "FFFHFFFF\n",
            "FHHFFFHF\n",
            "FHFFHFHF\n",
            "FFFHFFFG\n",
            "\n",
            "  (Right)\n",
            "SFFFFFFF\n",
            "FFFFFFF\u001b[41mF\u001b[0m\n",
            "FFFHFFFF\n",
            "FFFFFHFF\n",
            "FFFHFFFF\n",
            "FHHFFFHF\n",
            "FHFFHFHF\n",
            "FFFHFFFG\n",
            "\n",
            "  (Down)\n",
            "SFFFFFFF\n",
            "FFFFFFFF\n",
            "FFFHFFF\u001b[41mF\u001b[0m\n",
            "FFFFFHFF\n",
            "FFFHFFFF\n",
            "FHHFFFHF\n",
            "FHFFHFHF\n",
            "FFFHFFFG\n",
            "\n",
            "  (Down)\n",
            "SFFFFFFF\n",
            "FFFFFFFF\n",
            "FFFHFFFF\n",
            "FFFFFHF\u001b[41mF\u001b[0m\n",
            "FFFHFFFF\n",
            "FHHFFFHF\n",
            "FHFFHFHF\n",
            "FFFHFFFG\n",
            "\n",
            "  (Down)\n",
            "SFFFFFFF\n",
            "FFFFFFFF\n",
            "FFFHFFFF\n",
            "FFFFFHFF\n",
            "FFFHFFF\u001b[41mF\u001b[0m\n",
            "FHHFFFHF\n",
            "FHFFHFHF\n",
            "FFFHFFFG\n",
            "\n",
            "  (Down)\n",
            "SFFFFFFF\n",
            "FFFFFFFF\n",
            "FFFHFFFF\n",
            "FFFFFHFF\n",
            "FFFHFFFF\n",
            "FHHFFFH\u001b[41mF\u001b[0m\n",
            "FHFFHFHF\n",
            "FFFHFFFG\n",
            "\n",
            "  (Down)\n",
            "SFFFFFFF\n",
            "FFFFFFFF\n",
            "FFFHFFFF\n",
            "FFFFFHFF\n",
            "FFFHFFFF\n",
            "FHHFFFHF\n",
            "FHFFHFH\u001b[41mF\u001b[0m\n",
            "FFFHFFFG\n",
            "\n",
            "  (Down)\n",
            "SFFFFFFF\n",
            "FFFFFFFF\n",
            "FFFHFFFF\n",
            "FFFFFHFF\n",
            "FFFHFFFF\n",
            "FHHFFFHF\n",
            "FHFFHFHF\n",
            "FFFHFFF\u001b[41mG\u001b[0m\n",
            "\n"
          ]
        },
        {
          "output_type": "stream",
          "name": "stderr",
          "text": [
            "\n"
          ]
        }
      ],
      "source": [
        "##ON LANCE LA RESOLUTION :\n",
        "solutions = try_qlearn(3000, 50)\n",
        "if(len(solutions)>0):rendu(solutions)\n",
        "#relancer le bloc si pas de solution trouvee"
      ]
    },
    {
      "cell_type": "code",
      "execution_count": 18,
      "metadata": {
        "id": "sz1cKABbet6N"
      },
      "outputs": [],
      "source": [
        "import matplotlib.pyplot as plt\n",
        "def plot_frequence_sol(solutions_list):\n",
        "    \"\"\"\n",
        "    dessine la frequence de solution trouvees\n",
        "    Parameters\n",
        "    ----------\n",
        "    solutions : liste des solutions\n",
        "\n",
        "    Returns\n",
        "    -------\n",
        "    None.\n",
        "\n",
        "    \"\"\"\n",
        "    xs = [x[0] for x in solutions_list]\n",
        "    ys = [y[1] for y in solutions_list]\n",
        "    plt.figure(figsize=(10, 4))\n",
        "    plt.plot(xs, ys, '.')\n",
        "    plt.xlabel(\"no du test\")\n",
        "    plt.ylabel(\"gain\")\n",
        "    plt.title(\"Fréquence d'apparition de solution\")\n",
        "    plt.show()\n",
        "\n"
      ]
    },
    {
      "cell_type": "code",
      "execution_count": 19,
      "metadata": {
        "colab": {
          "base_uri": "https://localhost:8080/",
          "height": 411
        },
        "id": "hLZ9iDfvet6O",
        "outputId": "a9c090d5-d433-4848-b1f0-905a7153908b"
      },
      "outputs": [
        {
          "output_type": "display_data",
          "data": {
            "text/plain": [
              "<Figure size 1000x400 with 1 Axes>"
            ],
            "image/png": "[encoded data removed]"
          },
          "metadata": {}
        }
      ],
      "source": [
        "plot_frequence_sol(solutions)"
      ]
    },
    {
      "cell_type": "code",
      "execution_count": 20,
      "metadata": {
        "id": "ir5Pxv2Iet6O"
      },
      "outputs": [],
      "source": [
        "def showBestValues(Q):\n",
        "    #bestQValues contient les meilleures valeurs des actions possibles pour chaque état\n",
        "    #et on \"ecrase\" les valeurs pour réduire leurs différences (utile pour le choix des couleurs)\n",
        "    bestQValues = [max(ligne)**(1/10) for ligne in Q]\n",
        "    dim = int(Q.shape[0]**(1/2))\n",
        "    #on transforme bestQValues en matrice dim x dim\n",
        "    bestQValues = np.reshape(bestQValues, (dim,dim))\n",
        "    #on demande à python de générer une \"heatmap\"\n",
        "    fig, ax = plt.subplots(figsize=(5,5))\n",
        "    ax.imshow(bestQValues,cmap='Blues')\n",
        "    plt.title(\"Meilleur score d'une action selon l'état\")\n",
        "    plt.show()\n"
      ]
    },
    {
      "cell_type": "code",
      "execution_count": 21,
      "metadata": {
        "colab": {
          "base_uri": "https://localhost:8080/",
          "height": 468
        },
        "id": "BX6eQr6get6P",
        "outputId": "53632da2-4220-461f-e2ef-91f861081a46"
      },
      "outputs": [
        {
          "output_type": "display_data",
          "data": {
            "text/plain": [
              "<Figure size 500x500 with 1 Axes>"
            ],
            "image/png": "[encoded data removed]"
          },
          "metadata": {}
        }
      ],
      "source": [
        "showBestValues(Q)"
      ]
    },
    {
      "cell_type": "code",
      "execution_count": 22,
      "metadata": {
        "id": "UmtOkRfTet6Q"
      },
      "outputs": [],
      "source": [
        "import seaborn as sns"
      ]
    },
    {
      "cell_type": "code",
      "execution_count": 23,
      "metadata": {
        "id": "HNv7I0F4et6c"
      },
      "outputs": [],
      "source": [
        "# Author: Andrea Pierré\n",
        "# License: MIT License\n",
        "def qtable_directions_map(qtable, dim):\n",
        "    \"\"\"Get the best learned action & map it to arrows.\"\"\"\n",
        "    qtable_val_max = qtable.max(axis=1).reshape(dim, dim)\n",
        "    qtable_best_action = np.argmax(qtable, axis=1).reshape(dim, dim)\n",
        "    qtable_directions = np.empty(qtable_best_action.flatten().shape, dtype=str)\n",
        "    eps = 0#np.finfo(float).min #np.finfo(float).eps  # Minimum float number on the machine\n",
        "    for idx, val in enumerate(qtable_best_action.flatten()):\n",
        "        if qtable_val_max.flatten()[idx] > eps:\n",
        "            # Assign an arrow only if a Q-value has been learned as best action\n",
        "            # otherwise since 0 is a direction, it also gets mapped on the tiles where\n",
        "            # it didn't actually learn anything\n",
        "            qtable_directions[idx] = directions[val]\n",
        "    qtable_directions = qtable_directions.reshape(dim, dim)\n",
        "    return qtable_val_max, qtable_directions"
      ]
    },
    {
      "cell_type": "code",
      "execution_count": 24,
      "metadata": {
        "id": "KTr01Ibket6c"
      },
      "outputs": [],
      "source": [
        "# from Author: Andrea Pierré\n",
        "# License: MIT License\n",
        "from math import sqrt\n",
        "sqrt_vect = np.vectorize(sqrt)\n",
        "\n",
        "def plot_q_values_map(qtable, dim):\n",
        "    \"\"\"Plot the last frame of the simulation and the policy learned.\"\"\"\n",
        "    qtable_val_max, qtable_directions = qtable_directions_map(qtable, dim)\n",
        "    # Plot the last frame\n",
        "    fig, ax = plt.subplots(nrows=1, ncols=1, figsize=(5, 5))\n",
        "    # Plot the policy\n",
        "    sns.heatmap(\n",
        "        sqrt_vect(sqrt_vect(sqrt_vect(qtable_val_max))),\n",
        "        annot=qtable_directions,\n",
        "        fmt=\"\",\n",
        "        cmap=sns.color_palette(\"Blues\", as_cmap=True),\n",
        "        linewidths=0.7,\n",
        "        linecolor=\"black\",\n",
        "        xticklabels=[],\n",
        "        yticklabels=[],\n",
        "        annot_kws={\"fontsize\": \"xx-large\"},\n",
        "        ).set(title=\"Learned Q-values\\nArrows represent best action\")\n",
        "    for _, spine in ax.spines.items():\n",
        "        spine.set_visible(True)\n",
        "        spine.set_linewidth(0.7)\n",
        "        spine.set_color(\"black\")\n",
        "    plt.show()"
      ]
    },
    {
      "cell_type": "code",
      "execution_count": 25,
      "metadata": {
        "colab": {
          "base_uri": "https://localhost:8080/",
          "height": 473
        },
        "id": "9onUWkjyet6d",
        "outputId": "226c60c5-9a56-4030-a4f9-134c0a7f8882"
      },
      "outputs": [
        {
          "output_type": "display_data",
          "data": {
            "text/plain": [
              "<Figure size 500x500 with 2 Axes>"
            ],
            "image/png": "[encoded data removed]"
          },
          "metadata": {}
        }
      ],
      "source": [
        "plot_q_values_map(Q,8)"
      ]
    },
    {
      "cell_type": "markdown",
      "metadata": {
        "id": "IKbVGUt1et6e"
      },
      "source": [
        "---\n",
        "### <font color=\"red\">Test de résolution en mode non déterministe</font>\n",
        "Rechargeons l'environnement en mode \"glissant\".\n",
        "\n",
        "Il suffit de réinitialiser la table Q et de lancer l'algorithme...\n"
      ]
    },
    {
      "cell_type": "code",
      "execution_count": 26,
      "metadata": {
        "colab": {
          "base_uri": "https://localhost:8080/",
          "height": 428
        },
        "id": "HK1RKbooet6e",
        "outputId": "6836f21c-55f6-42fb-f0d0-5f17ce19fed0"
      },
      "outputs": [
        {
          "output_type": "stream",
          "name": "stderr",
          "text": [
            "100%|██████████| 10000/10000 [00:12<00:00, 828.29it/s]\n"
          ]
        },
        {
          "output_type": "display_data",
          "data": {
            "text/plain": [
              "<Figure size 1000x400 with 1 Axes>"
            ],
            "image/png": "[encoded data removed]"
          },
          "metadata": {}
        }
      ],
      "source": [
        "env = gym.make('FrozenLake-v1', map_name=\"8x8\", is_slippery=True, render_mode='ansi')\n",
        "\n",
        "env.reset()\n",
        "Q = np.zeros([env.observation_space.n,env.action_space.n])\n",
        "lambda_learn = .3\n",
        "gamma = 0.99\n",
        "epsilon = 1.\n",
        "##ON LANCE LA RESOLUTION :\n",
        "solutions = try_qlearn(nb_episodes = 10000)\n",
        "plot_frequence_sol(solutions)"
      ]
    },
    {
      "cell_type": "code",
      "execution_count": 27,
      "metadata": {
        "colab": {
          "base_uri": "https://localhost:8080/"
        },
        "id": "9g3POQ18et6e",
        "outputId": "7de77035-e766-4149-91ec-5f56e72dcdfc"
      },
      "outputs": [
        {
          "output_type": "stream",
          "name": "stdout",
          "text": [
            "une solution en  16  etapes : \n",
            "\n",
            "\u001b[41mS\u001b[0mFFFFFFF\n",
            "FFFFFFFF\n",
            "FFFHFFFF\n",
            "FFFFFHFF\n",
            "FFFHFFFF\n",
            "FHHFFFHF\n",
            "FHFFHFHF\n",
            "FFFHFFFG\n",
            "\n",
            "  (Down)\n",
            "\u001b[41mS\u001b[0mFFFFFFF\n",
            "FFFFFFFF\n",
            "FFFHFFFF\n",
            "FFFFFHFF\n",
            "FFFHFFFF\n",
            "FHHFFFHF\n",
            "FHFFHFHF\n",
            "FFFHFFFG\n",
            "\n",
            "  (Right)\n",
            "S\u001b[41mF\u001b[0mFFFFFF\n",
            "FFFFFFFF\n",
            "FFFHFFFF\n",
            "FFFFFHFF\n",
            "FFFHFFFF\n",
            "FHHFFFHF\n",
            "FHFFHFHF\n",
            "FFFHFFFG\n",
            "\n",
            "  (Up)\n",
            "\u001b[41mS\u001b[0mFFFFFFF\n",
            "FFFFFFFF\n",
            "FFFHFFFF\n",
            "FFFFFHFF\n",
            "FFFHFFFF\n",
            "FHHFFFHF\n",
            "FHFFHFHF\n",
            "FFFHFFFG\n",
            "\n",
            "  (Right)\n",
            "S\u001b[41mF\u001b[0mFFFFFF\n",
            "FFFFFFFF\n",
            "FFFHFFFF\n",
            "FFFFFHFF\n",
            "FFFHFFFF\n",
            "FHHFFFHF\n",
            "FHFFHFHF\n",
            "FFFHFFFG\n",
            "\n",
            "  (Right)\n",
            "SFFFFFFF\n",
            "F\u001b[41mF\u001b[0mFFFFFF\n",
            "FFFHFFFF\n",
            "FFFFFHFF\n",
            "FFFHFFFF\n",
            "FHHFFFHF\n",
            "FHFFHFHF\n",
            "FFFHFFFG\n",
            "\n",
            "  (Right)\n",
            "SFFFFFFF\n",
            "FFFFFFFF\n",
            "F\u001b[41mF\u001b[0mFHFFFF\n",
            "FFFFFHFF\n",
            "FFFHFFFF\n",
            "FHHFFFHF\n",
            "FHFFHFHF\n",
            "FFFHFFFG\n",
            "\n",
            "  (Right)\n",
            "SFFFFFFF\n",
            "FFFFFFFF\n",
            "FFFHFFFF\n",
            "F\u001b[41mF\u001b[0mFFFHFF\n",
            "FFFHFFFF\n",
            "FHHFFFHF\n",
            "FHFFHFHF\n",
            "FFFHFFFG\n",
            "\n",
            "  (Right)\n",
            "SFFFFFFF\n",
            "FFFFFFFF\n",
            "FFFHFFFF\n",
            "FF\u001b[41mF\u001b[0mFFHFF\n",
            "FFFHFFFF\n",
            "FHHFFFHF\n",
            "FHFFHFHF\n",
            "FFFHFFFG\n",
            "\n",
            "  (Right)\n",
            "SFFFFFFF\n",
            "FFFFFFFF\n",
            "FFFHFFFF\n",
            "FFFFFHFF\n",
            "FF\u001b[41mF\u001b[0mHFFFF\n",
            "FHHFFFHF\n",
            "FHFFHFHF\n",
            "FFFHFFFG\n",
            "\n",
            "  (Right)\n",
            "SFFFFFFF\n",
            "FFFFFFFF\n",
            "FFFHFFFF\n",
            "FFFFFHFF\n",
            "FFFHFFFF\n",
            "FH\u001b[41mH\u001b[0mFFFHF\n",
            "FHFFHFHF\n",
            "FFFHFFFG\n",
            "\n",
            "  (Up)\n",
            "SFFFFFFF\n",
            "FFFFFFFF\n",
            "FFFHFFFF\n",
            "FFFFFHFF\n",
            "FFFHFFFF\n",
            "FH\u001b[41mH\u001b[0mFFFHF\n",
            "FHFFHFHF\n",
            "FFFHFFFG\n",
            "\n",
            "  (Left)\n",
            "SFFFFFFF\n",
            "FFFFFFFF\n",
            "FFFHFFFF\n",
            "FFFFFHFF\n",
            "FFFHFFFF\n",
            "FH\u001b[41mH\u001b[0mFFFHF\n",
            "FHFFHFHF\n",
            "FFFHFFFG\n",
            "\n",
            "  (Down)\n",
            "SFFFFFFF\n",
            "FFFFFFFF\n",
            "FFFHFFFF\n",
            "FFFFFHFF\n",
            "FFFHFFFF\n",
            "FH\u001b[41mH\u001b[0mFFFHF\n",
            "FHFFHFHF\n",
            "FFFHFFFG\n",
            "\n",
            "  (Right)\n",
            "SFFFFFFF\n",
            "FFFFFFFF\n",
            "FFFHFFFF\n",
            "FFFFFHFF\n",
            "FFFHFFFF\n",
            "FH\u001b[41mH\u001b[0mFFFHF\n",
            "FHFFHFHF\n",
            "FFFHFFFG\n",
            "\n",
            "  (Down)\n",
            "SFFFFFFF\n",
            "FFFFFFFF\n",
            "FFFHFFFF\n",
            "FFFFFHFF\n",
            "FFFHFFFF\n",
            "FH\u001b[41mH\u001b[0mFFFHF\n",
            "FHFFHFHF\n",
            "FFFHFFFG\n",
            "\n",
            "  (Right)\n",
            "SFFFFFFF\n",
            "FFFFFFFF\n",
            "FFFHFFFF\n",
            "FFFFFHFF\n",
            "FFFHFFFF\n",
            "FH\u001b[41mH\u001b[0mFFFHF\n",
            "FHFFHFHF\n",
            "FFFHFFFG\n",
            "\n",
            "SOLUTION NON ATTEINTE alors que l'on a suivi une séquence gagnante ? -> c'est normal, l'environnement est trop instable.\n",
            "On n'apprend seulement les actions permettant *le plus probablement* de mener à une solution\n",
            "mais elle n'est pas toujours garantie....\n",
            "relancez ce bloc plusieurs fois, au bout d'un (long) moment la séquence d'actions mènera au succès....\n"
          ]
        }
      ],
      "source": [
        "if(len(solutions)>0):rendu(solutions)\n",
        "print(\"SOLUTION NON ATTEINTE alors que l'on a suivi une séquence gagnante ? -> c'est normal, l'environnement est trop instable.\")\n",
        "print(\"On n'apprend seulement les actions permettant *le plus probablement* de mener à une solution\")\n",
        "print(\"mais elle n'est pas toujours garantie....\")\n",
        "print(\"relancez ce bloc plusieurs fois, au bout d'un (long) moment la séquence d'actions mènera au succès....\")\n"
      ]
    },
    {
      "cell_type": "code",
      "execution_count": 28,
      "metadata": {
        "colab": {
          "base_uri": "https://localhost:8080/",
          "height": 468
        },
        "id": "cZiFBpyQet6f",
        "outputId": "a15cd616-f844-4684-fb76-e43e5103b95f"
      },
      "outputs": [
        {
          "output_type": "display_data",
          "data": {
            "text/plain": [
              "<Figure size 500x500 with 1 Axes>"
            ],
            "image/png": "[encoded data removed]"
          },
          "metadata": {}
        }
      ],
      "source": [
        "showBestValues(Q)"
      ]
    },
    {
      "cell_type": "markdown",
      "metadata": {
        "id": "J9qQnyMHet6f"
      },
      "source": [
        "---\n",
        "### Double Q Learning"
      ]
    },
    {
      "cell_type": "markdown",
      "metadata": {
        "id": "CfcrK4dtet6f"
      },
      "source": [
        "Avec l'algo de Double Q Learning, on réalise, plus ou moins alternativement :\n",
        "  - $a^* \\gets  argmax_{a} QA(s', a)$,\n",
        "  - $Q_A(s,a) \\gets Q_A(s,a) + \\lambda \\times (r + \\gamma \\times Q_B(s', a^*))-  Q_A(s,a))$ <br>\n",
        "ou<br>\n",
        "  - $b^* \\gets  argmax_{a} Q_B(s', a)$\n",
        "  - $Q_B(s,a) \\gets Q_B(s,a) + \\lambda \\times (r + \\gamma \\times QA(s', b^*))-  Q_B(s,a))$<br>\n",
        "avec\n",
        "    - $\\lambda$ : coef d'apprentissage\n",
        "    - $\\gamma$ : coef de réduction\n",
        "    - $r$ : récompense\n",
        "\n",
        "Cette équation note la qualité de l'action *a* à partir de l'état *s* alternativement dans les tables $Q_A$ et $Q_B$.\n",
        "\n",
        "**Codez maintenant l'algorithme de double Q-Learning et comparez les résultats** (cf. [CLIFFDoubleQLearning](https://github.com/EmmanuelADAM/IntelligenceArtificiellePython/blob/master/GymCLIFFDoubleQLearningTODO.ipynb)).\n",
        "\n",
        "N.B. Les paramètres permettant un bon apprentissage par doube QLearning sont :\n",
        "- lambda_learn = .2\n",
        "- gamma = 0.99\n",
        "- epsilon = 1.\n",
        "- nb_episodes = 3000\n",
        "- nb_actions = 100\n"
      ]
    },
    {
      "cell_type": "code",
      "source": [
        "env = gym.make('FrozenLake-v1', map_name=\"8x8\", is_slippery=False, render_mode='ansi')\n",
        "env.reset()"
      ],
      "metadata": {
        "colab": {
          "base_uri": "https://localhost:8080/"
        },
        "id": "jwK0LIiPxhLb",
        "outputId": "5035e920-da6b-4000-a4cb-ed5343fa5298"
      },
      "execution_count": 141,
      "outputs": [
        {
          "output_type": "execute_result",
          "data": {
            "text/plain": [
              "(0, {'prob': 1})"
            ]
          },
          "metadata": {},
          "execution_count": 141
        }
      ]
    },
    {
      "cell_type": "code",
      "source": [
        "lambda_learn = .2\n",
        "gamma = 0.99\n",
        "epsilon = 1.\n",
        "QA = np.zeros([env.observation_space.n,env.action_space.n])\n",
        "QB = np.zeros([env.observation_space.n,env.action_space.n])"
      ],
      "metadata": {
        "id": "ziWUsEXopo_Q"
      },
      "execution_count": 140,
      "outputs": []
    },
    {
      "cell_type": "code",
      "source": [
        "np.max(QA[0, :])"
      ],
      "metadata": {
        "colab": {
          "base_uri": "https://localhost:8080/"
        },
        "id": "vpdv_OpDyPxy",
        "outputId": "0de2ecda-a227-42bb-f8c1-776e2e4da784"
      },
      "execution_count": 130,
      "outputs": [
        {
          "output_type": "execute_result",
          "data": {
            "text/plain": [
              "0.0"
            ]
          },
          "metadata": {},
          "execution_count": 130
        }
      ]
    },
    {
      "cell_type": "code",
      "source": [
        "##algorithme de Q-Learning double\n",
        "def q_learn(nb_actions=100):\n",
        "    \"\"\"\n",
        "    effectue un cycle d'apprentissage/recherche de solution' via le Q-Learning simple\n",
        "\n",
        "    Parameters\n",
        "    ----------\n",
        "    epoch : no de l'etape\n",
        "\n",
        "    Returns\n",
        "    -------\n",
        "    total_r : recompense totale\n",
        "    r : recompense du dernier etat rencontre\n",
        "    states_list : liste des etats traverses\n",
        "    actions_list : liste des actions effectuees\n",
        "    goal : but atteint\n",
        "\n",
        "    \"\"\"\n",
        "    s = env.reset()\n",
        "    #sous python 3.10, ajouter\n",
        "    s = s[0]\n",
        "    total_r = 0\n",
        "    done = False\n",
        "    step = 0\n",
        "    states_list = []\n",
        "    actions_list = []\n",
        "\n",
        "    # The Q-Table learning algorithm\n",
        "    while not done and step < nb_actions:\n",
        "        step += 1\n",
        "        # Choose an action by greedily (with noise) picking from Q table\n",
        "        actionsA = QA[s, :]\n",
        "        actionsB = QB[s, :]\n",
        "        if rnd.random()<epsilon :\n",
        "            a = rnd.randint(0, env.action_space.n-1)\n",
        "        else:\n",
        "            bestQa = np.argmax(actionsA)\n",
        "            bestQb = np.argmax(actionsB)\n",
        "            a = bestQa if QA[s, bestQa] > QB[s, bestQb] else bestQb\n",
        "\n",
        "        # Get new state and reward from environment\n",
        "        new_state, r, done, _, _ = env.step(a)\n",
        "\n",
        "\n",
        "        # Q-Learning\n",
        "        if (np.random.uniform(0.1) < 0.5):\n",
        "            aeto= np.argmax(QA[new_state, :])\n",
        "            old = QA[s, a]\n",
        "            QA[s, a] = QA[s, a] + lambda_learn*(r + gamma * QB[new_state,aeto] - QA[s, a])\n",
        "            if QA[s, a] != old: print(\"changement de QA\")\n",
        "        else:\n",
        "            beto=np.argmax(QB[new_state,:])\n",
        "            old = QB[s, a]\n",
        "            QB[s, a] = QB[s, a] + lambda_learn*(r + gamma * QA[new_state,beto] - QB[s, a])\n",
        "            if QB[s, a] != old: print(\"changement de QA\")\n",
        "\n",
        "        s = new_state\n",
        "        total_r = total_r + r\n",
        "        states_list.append(s)\n",
        "        actions_list.append(a)\n",
        "\n",
        "    return total_r, r, states_list, actions_list, done\n",
        ""
      ],
      "metadata": {
        "id": "zToNBNy5lyne"
      },
      "execution_count": 148,
      "outputs": []
    },
    {
      "cell_type": "code",
      "source": [
        "def try_qlearn(nb_episodes = 3000, nb_actions = 100):\n",
        "    \"\"\"\n",
        "    lance nb_episodes fois un cycle de Q-Learning et memorise chaque solution trouvee\n",
        "\n",
        "    Returns\n",
        "    -------\n",
        "    solutions_list : liste des solutions (no, recompense totale, liste des etats, liste des actions)\n",
        "    \"\"\"\n",
        "    global epsilon\n",
        "\n",
        "    solutions_list = []\n",
        "    epsilon = 1\n",
        "    for i in range(nb_episodes):\n",
        "        # Reset environment and get first new observation\n",
        "        total_r, r, states_list, actions_list, done = q_learn(nb_actions)\n",
        "        epsilon = epsilon * 0.99\n",
        "        # memorize if a solution has been found\n",
        "        if r == 1: solutions_list.append((i, total_r, states_list, actions_list))\n",
        "\n",
        "    if (len(solutions_list) == 0): print(\"aucune solution trouvee !!\")\n",
        "    return solutions_list\n"
      ],
      "metadata": {
        "id": "Ap75We7YpdZo"
      },
      "execution_count": 155,
      "outputs": []
    },
    {
      "cell_type": "code",
      "source": [
        "def rendu(solutions_list):\n",
        "    \"\"\" affiche la plus courte sequence d'actions permettant d'atteindre l'objectif q partir des solutions fournies\n",
        "    Parameters\n",
        "    ----------\n",
        "    solutions_list : liste des solutions trouvees\n",
        "\n",
        "    Returns\n",
        "    -------\n",
        "    None.\n",
        "    \"\"\"\n",
        "    mini_sol = solutions_list[0]\n",
        "    for s in  solutions_list:\n",
        "        if len(s[2]) < len(mini_sol[2]): mini_sol = s\n",
        "    print(\"une solution en \", len(mini_sol[2]), \" etapes : \")\n",
        "    env.reset()\n",
        "    env.render()\n",
        "    for i in range(0, len(mini_sol[2])):\n",
        "        env.env.s = mini_sol[2][i]\n",
        "        print(\"action \", actions[mini_sol[3][i]])\n",
        "        env.render()"
      ],
      "metadata": {
        "id": "Qa7QGaicpxbc"
      },
      "execution_count": 133,
      "outputs": []
    },
    {
      "cell_type": "code",
      "source": [
        "##ON LANCE LA RESOLUTION :\n",
        "solutions = try_qlearn(15000, 24)\n",
        "if(len(solutions)>0):rendu(solutions)\n",
        "#relancer le bloc si pas de solution trouvee"
      ],
      "metadata": {
        "colab": {
          "base_uri": "https://localhost:8080/"
        },
        "id": "Hy167SpDp2LW",
        "outputId": "2cf1b71e-ae57-43d1-c1ee-3174832806a4"
      },
      "execution_count": 162,
      "outputs": [
        {
          "output_type": "stream",
          "name": "stdout",
          "text": [
            "aucune solution trouvee !!\n"
          ]
        }
      ]
    },
    {
      "cell_type": "code",
      "source": [
        "QB"
      ],
      "metadata": {
        "colab": {
          "base_uri": "https://localhost:8080/"
        },
        "id": "av4Jpn4H54RN",
        "outputId": "522db2f5-6fa2-4df9-89c2-38f2d7011c59"
      },
      "execution_count": 145,
      "outputs": [
        {
          "output_type": "execute_result",
          "data": {
            "text/plain": [
              "array([[0. , 0. , 0. , 0. ],\n",
              "       [0. , 0. , 0. , 0. ],\n",
              "       [0. , 0. , 0. , 0. ],\n",
              "       [0. , 0. , 0. , 0. ],\n",
              "       [0. , 0. , 0. , 0. ],\n",
              "       [0. , 0. , 0. , 0. ],\n",
              "       [0. , 0. , 0. , 0. ],\n",
              "       [0. , 0. , 0. , 0. ],\n",
              "       [0. , 0. , 0. , 0. ],\n",
              "       [0. , 0. , 0. , 0. ],\n",
              "       [0. , 0. , 0. , 0. ],\n",
              "       [0. , 0. , 0. , 0. ],\n",
              "       [0. , 0. , 0. , 0. ],\n",
              "       [0. , 0. , 0. , 0. ],\n",
              "       [0. , 0. , 0. , 0. ],\n",
              "       [0. , 0. , 0. , 0. ],\n",
              "       [0. , 0. , 0. , 0. ],\n",
              "       [0. , 0. , 0. , 0. ],\n",
              "       [0. , 0. , 0. , 0. ],\n",
              "       [0. , 0. , 0. , 0. ],\n",
              "       [0. , 0. , 0. , 0. ],\n",
              "       [0. , 0. , 0. , 0. ],\n",
              "       [0. , 0. , 0. , 0. ],\n",
              "       [0. , 0. , 0. , 0. ],\n",
              "       [0. , 0. , 0. , 0. ],\n",
              "       [0. , 0. , 0. , 0. ],\n",
              "       [0. , 0. , 0. , 0. ],\n",
              "       [0. , 0. , 0. , 0. ],\n",
              "       [0. , 0. , 0. , 0. ],\n",
              "       [0. , 0. , 0. , 0. ],\n",
              "       [0. , 0. , 0. , 0. ],\n",
              "       [0. , 0. , 0. , 0. ],\n",
              "       [0. , 0. , 0. , 0. ],\n",
              "       [0. , 0. , 0. , 0. ],\n",
              "       [0. , 0. , 0. , 0. ],\n",
              "       [0. , 0. , 0. , 0. ],\n",
              "       [0. , 0. , 0. , 0. ],\n",
              "       [0. , 0. , 0. , 0. ],\n",
              "       [0. , 0. , 0. , 0. ],\n",
              "       [0. , 0. , 0. , 0. ],\n",
              "       [0. , 0. , 0. , 0. ],\n",
              "       [0. , 0. , 0. , 0. ],\n",
              "       [0. , 0. , 0. , 0. ],\n",
              "       [0. , 0. , 0. , 0. ],\n",
              "       [0. , 0. , 0. , 0. ],\n",
              "       [0. , 0. , 0. , 0. ],\n",
              "       [0. , 0. , 0. , 0. ],\n",
              "       [0. , 0. , 0. , 0. ],\n",
              "       [0. , 0. , 0. , 0. ],\n",
              "       [0. , 0. , 0. , 0. ],\n",
              "       [0. , 0. , 0. , 0. ],\n",
              "       [0. , 0. , 0. , 0. ],\n",
              "       [0. , 0. , 0. , 0. ],\n",
              "       [0. , 0. , 0. , 0. ],\n",
              "       [0. , 0. , 0. , 0. ],\n",
              "       [0. , 0.2, 0. , 0. ],\n",
              "       [0. , 0. , 0. , 0. ],\n",
              "       [0. , 0. , 0. , 0. ],\n",
              "       [0. , 0. , 0. , 0. ],\n",
              "       [0. , 0. , 0. , 0. ],\n",
              "       [0. , 0. , 0. , 0. ],\n",
              "       [0. , 0. , 0. , 0. ],\n",
              "       [0. , 0. , 0. , 0. ],\n",
              "       [0. , 0. , 0. , 0. ]])"
            ]
          },
          "metadata": {},
          "execution_count": 145
        }
      ]
    },
    {
      "cell_type": "code",
      "source": [
        "import matplotlib.pyplot as plt\n",
        "def plot_frequence_sol(solutions_list):\n",
        "    \"\"\"\n",
        "    dessine la frequence de solution trouvees\n",
        "    Parameters\n",
        "    ----------\n",
        "    solutions : liste des solutions\n",
        "\n",
        "    Returns\n",
        "    -------\n",
        "    None.\n",
        "\n",
        "    \"\"\"\n",
        "    xs = [x[0] for x in solutions_list]\n",
        "    ys = [y[1] for y in solutions_list]\n",
        "    plt.figure(figsize=(10, 4))\n",
        "    plt.plot(xs, ys, '.')\n",
        "    plt.show()"
      ],
      "metadata": {
        "id": "rksSwQbCp5KP"
      },
      "execution_count": 146,
      "outputs": []
    },
    {
      "cell_type": "code",
      "source": [
        "plot_frequence_sol(solutions)"
      ],
      "metadata": {
        "colab": {
          "base_uri": "https://localhost:8080/",
          "height": 368
        },
        "id": "wY6uN1I2p8fj",
        "outputId": "6e48749d-2db6-4757-cc71-367f3b10a884"
      },
      "execution_count": 147,
      "outputs": [
        {
          "output_type": "display_data",
          "data": {
            "text/plain": [
              "<Figure size 1000x400 with 1 Axes>"
            ],
            "image/png": "[encoded data removed]"
          },
          "metadata": {}
        }
      ]
    },
    {
      "cell_type": "code",
      "source": [
        "import matplotlib.pyplot as plt"
      ],
      "metadata": {
        "id": "C1psXDxLp_KX"
      },
      "execution_count": 92,
      "outputs": []
    },
    {
      "cell_type": "code",
      "source": [
        "def showBestValues(Q):\n",
        "    #bestQValues contient les meilleures valeurs des actions possibles pour chaque état\n",
        "    #et on \"ecrase\" les valeurs pour réduire leurs différences (utile pour le choix des couleurs)\n",
        "    bestQValues = [max(ligne)**(1/10) for ligne in Q]\n",
        "    dim = int(Q.shape[0]**(1/2))\n",
        "    #on transforme bestQValues en matrice dim x dim\n",
        "    bestQValues = np.reshape(bestQValues, (dim,dim))\n",
        "    #on demande à python de générer une \"heatmap\"\n",
        "    fig, ax = plt.subplots(figsize=(5,5))\n",
        "    ax.imshow(bestQValues,cmap='Blues')\n",
        "    plt.title(\"Meilleur score d'une action selon l'état\")\n",
        "    plt.show()\n"
      ],
      "metadata": {
        "id": "npvBRMK1qBvs"
      },
      "execution_count": 97,
      "outputs": []
    },
    {
      "cell_type": "code",
      "source": [
        "showBestValues(QA)"
      ],
      "metadata": {
        "colab": {
          "base_uri": "https://localhost:8080/",
          "height": 468
        },
        "id": "9GgmV4jrqIom",
        "outputId": "599f1bc1-73ec-451f-c4e7-e94c7690dcf7"
      },
      "execution_count": 98,
      "outputs": [
        {
          "output_type": "display_data",
          "data": {
            "text/plain": [
              "<Figure size 500x500 with 1 Axes>"
            ],
            "image/png": "[encoded data removed]"
          },
          "metadata": {}
        }
      ]
    },
    {
      "cell_type": "code",
      "source": [
        "showBestValues(QB)"
      ],
      "metadata": {
        "colab": {
          "base_uri": "https://localhost:8080/",
          "height": 468
        },
        "id": "Q1HJiyJZqL6C",
        "outputId": "6701c624-483b-4f12-f389-349ccb6722f6"
      },
      "execution_count": 99,
      "outputs": [
        {
          "output_type": "display_data",
          "data": {
            "text/plain": [
              "<Figure size 500x500 with 1 Axes>"
            ],
            "image/png": "[encoded data removed]"
          },
          "metadata": {}
        }
      ]
    },
    {
      "cell_type": "code",
      "source": [
        "# Author: Andrea Pierré\n",
        "# License: MIT License\n",
        "def qtable_directions_map(qtable):\n",
        "    \"\"\"Get the best learned action & map it to arrows.\"\"\"\n",
        "    qtable_val_max = qtable.max(axis=1).reshape(8, 8)\n",
        "    qtable_best_action = np.argmax(qtable, axis=1).reshape(8, 8)\n",
        "    directions = {0: \"↑\", 1: \"→\", 2: \"↓\", 3: \"←\"}\n",
        "    qtable_directions = np.empty(qtable_best_action.flatten().shape, dtype=str)\n",
        "    eps = 0#np.finfo(float).min #np.finfo(float).eps  # Minimum float number on the machine\n",
        "    for idx, val in enumerate(qtable_best_action.flatten()):\n",
        "        if qtable_val_max.flatten()[idx] < eps:\n",
        "            # Assign an arrow only if a Q-value has been learned as best action\n",
        "            # otherwise since 0 is a direction, it also gets mapped on the tiles where\n",
        "            # it didn't actually learn anything\n",
        "            qtable_directions[idx] = directions[val]\n",
        "    qtable_directions = qtable_directions.reshape(8, 8)\n",
        "    return qtable_val_max, qtable_directions"
      ],
      "metadata": {
        "id": "nCDtcolwqO4t"
      },
      "execution_count": 61,
      "outputs": []
    },
    {
      "cell_type": "code",
      "source": [
        "# Author: Andrea Pierré\n",
        "# License: MIT License\n",
        "def plot_q_values_map(qtable):\n",
        "    \"\"\"Plot the last frame of the simulation and the policy learned.\"\"\"\n",
        "    qtable_val_max, qtable_directions = qtable_directions_map(qtable)\n",
        "\n",
        "    # Plot the last frame\n",
        "    fig, ax = plt.subplots(nrows=1, ncols=1, figsize=(10, 3))\n",
        "\n",
        "    # Plot the policy\n",
        "    sns.heatmap(\n",
        "        qtable_val_max,\n",
        "        annot=qtable_directions,\n",
        "        fmt=\"\",\n",
        "        cmap=sns.color_palette(\"Blues\", as_cmap=True),\n",
        "        linewidths=0.7,\n",
        "        linecolor=\"black\",\n",
        "        xticklabels=[],\n",
        "        yticklabels=[],\n",
        "        annot_kws={\"fontsize\": \"xx-large\"},\n",
        "        ).set(title=\"Learned Q-values\\nArrows represent best action\")\n",
        "    for _, spine in ax.spines.items():\n",
        "        spine.set_visible(True)\n",
        "        spine.set_linewidth(0.7)\n",
        "        spine.set_color(\"black\")\n",
        "    plt.show()"
      ],
      "metadata": {
        "id": "pjA1bgzpqTbQ"
      },
      "execution_count": 62,
      "outputs": []
    },
    {
      "cell_type": "code",
      "source": [
        "plot_q_values_map(QA )"
      ],
      "metadata": {
        "colab": {
          "base_uri": "https://localhost:8080/",
          "height": 319
        },
        "id": "5rbTbNYKqYFV",
        "outputId": "44bcb669-38d3-4218-de2b-9a636db91952"
      },
      "execution_count": 63,
      "outputs": [
        {
          "output_type": "display_data",
          "data": {
            "text/plain": [
              "<Figure size 1000x300 with 2 Axes>"
            ],
            "image/png": "[encoded data removed]"
          },
          "metadata": {}
        }
      ]
    },
    {
      "cell_type": "code",
      "source": [
        "plot_q_values_map(QB )"
      ],
      "metadata": {
        "colab": {
          "base_uri": "https://localhost:8080/",
          "height": 319
        },
        "id": "UaeX-suTqaHH",
        "outputId": "97648cf8-0225-4ce5-ec71-9cda85f14317"
      },
      "execution_count": 64,
      "outputs": [
        {
          "output_type": "display_data",
          "data": {
            "text/plain": [
              "<Figure size 1000x300 with 2 Axes>"
            ],
            "image/png": "[encoded data removed]"
          },
          "metadata": {}
        }
      ]
    },
    {
      "cell_type": "markdown",
      "metadata": {
        "id": "taOP9C4iet6g"
      },
      "source": [
        "----\n",
        "### Delayed QLearning\n",
        "\n",
        "Pour le **Delayed QLearning**, le but est d'attendre avant de mettre à jour les valeurs de Qualité des actions.\n",
        "\n",
        "- On introduit alors une liste qui contiendra les valeurs rencontrées.\n",
        "- Cette liste $memory$ contient des tuples (etat, action, reward, nouvel_etat)\n",
        "- L'algo suit le fonctionnement classique, mais après l'exécution d'une action, l'état actuel, l'action, le reward et le nouvel etat obtenu sont stockés dans la liste $memory$\n",
        "- Périodiquement, au bout de $m$ itérations :  \n",
        "    - on balaie cette liste pour appliquer la classique formule de QLearning et mettre à jour la matrice Q pour chaque couple état, action rencontrés\n",
        "    - on efface le contenue de cette liste.\n",
        "- La performance du delayedQLearning dépend de la valeur m (par exemple pour m=16, ce n'est qu'après 16 actions (ou après avoir trouvé le but, ou au bout des actions demandées) que la matrice Q sera mise à jour avec l'ensemble des cas rencontrés\n",
        "\n",
        "Le delayed QLearning permet une plus grande exploration et diminue les cas de maxima locaux."
      ]
    },
    {
      "cell_type": "markdown",
      "metadata": {
        "id": "htoDeqGtet6g"
      },
      "source": [
        "**Codez maintenant l'algorithme de delayed Q-Learning** et comparez les résultats."
      ]
    }
  ],
  "metadata": {
    "kernelspec": {
      "display_name": "Python 3 (ipykernel)",
      "language": "python",
      "name": "python3"
    },
    "language_info": {
      "codemirror_mode": {
        "name": "ipython",
        "version": 3
      },
      "file_extension": ".py",
      "mimetype": "text/x-python",
      "name": "python",
      "nbconvert_exporter": "python",
      "pygments_lexer": "ipython3",
      "version": "3.12.2"
    },
    "colab": {
      "provenance": []
    }
  },
  "nbformat": 4,
  "nbformat_minor": 0
}